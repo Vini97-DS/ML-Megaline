{
 "cells": [
  {
   "cell_type": "markdown",
   "metadata": {},
   "source": [
    "# Descrição do projeto\n",
    "A operadora de celular Megaline está insatisfeita com o fato de muitos de seus clientes estarem usando planos antigos. Ela quer desenvolver um modelo que possa analisar o comportamento do cliente e recomendar um dos planos mais recentes da Megaline: Smart ou Ultra.\n",
    "\n",
    "Você tem acesso a dados de comportamento dos clientes que já mudaram para os novos planos (do projeto do curso de Análise de dados estatísticos). Para essa tarefa de classificação, você precisa desenvolver um modelo que escolhe o plano certo. Como você já executou a etapa de pré-processamento de dados, pode ir direto para a criação do modelo.\n",
    "\n",
    "Desenvolva um modelo com a maior acurácia possível. Neste projeto, o limite para acurácia é 0,75. Verifique a acurácia usando o conjunto de dados de teste."
   ]
  },
  {
   "cell_type": "markdown",
   "metadata": {},
   "source": [
    "# Analise dos dados \n",
    "Analise dos dados para conferencia se estao realmente corretos para que possamos criar o modelo da melhor forma possivel, sem nenhum erro."
   ]
  },
  {
   "cell_type": "code",
   "execution_count": 7,
   "metadata": {},
   "outputs": [],
   "source": [
    "import pandas as pd \n",
    "from sklearn.model_selection import train_test_split"
   ]
  },
  {
   "cell_type": "code",
   "execution_count": 12,
   "metadata": {},
   "outputs": [],
   "source": [
    "df = pd.read_csv(\"/Users/Vinicius/Desktop/Data Science/Portfolio/ML/users_behavior.csv\")"
   ]
  },
  {
   "cell_type": "code",
   "execution_count": 13,
   "metadata": {},
   "outputs": [
    {
     "name": "stdout",
     "output_type": "stream",
     "text": [
      "<class 'pandas.core.frame.DataFrame'>\n",
      "RangeIndex: 3214 entries, 0 to 3213\n",
      "Data columns (total 5 columns):\n",
      " #   Column    Non-Null Count  Dtype  \n",
      "---  ------    --------------  -----  \n",
      " 0   calls     3214 non-null   float64\n",
      " 1   minutes   3214 non-null   float64\n",
      " 2   messages  3214 non-null   float64\n",
      " 3   mb_used   3214 non-null   float64\n",
      " 4   is_ultra  3214 non-null   int64  \n",
      "dtypes: float64(4), int64(1)\n",
      "memory usage: 125.7 KB\n"
     ]
    }
   ],
   "source": [
    "df.info()"
   ]
  },
  {
   "cell_type": "code",
   "execution_count": 14,
   "metadata": {},
   "outputs": [
    {
     "data": {
      "text/html": [
       "<div>\n",
       "<style scoped>\n",
       "    .dataframe tbody tr th:only-of-type {\n",
       "        vertical-align: middle;\n",
       "    }\n",
       "\n",
       "    .dataframe tbody tr th {\n",
       "        vertical-align: top;\n",
       "    }\n",
       "\n",
       "    .dataframe thead th {\n",
       "        text-align: right;\n",
       "    }\n",
       "</style>\n",
       "<table border=\"1\" class=\"dataframe\">\n",
       "  <thead>\n",
       "    <tr style=\"text-align: right;\">\n",
       "      <th></th>\n",
       "      <th>calls</th>\n",
       "      <th>minutes</th>\n",
       "      <th>messages</th>\n",
       "      <th>mb_used</th>\n",
       "      <th>is_ultra</th>\n",
       "    </tr>\n",
       "  </thead>\n",
       "  <tbody>\n",
       "    <tr>\n",
       "      <th>0</th>\n",
       "      <td>40.0</td>\n",
       "      <td>311.90</td>\n",
       "      <td>83.0</td>\n",
       "      <td>19915.42</td>\n",
       "      <td>0</td>\n",
       "    </tr>\n",
       "    <tr>\n",
       "      <th>1</th>\n",
       "      <td>85.0</td>\n",
       "      <td>516.75</td>\n",
       "      <td>56.0</td>\n",
       "      <td>22696.96</td>\n",
       "      <td>0</td>\n",
       "    </tr>\n",
       "    <tr>\n",
       "      <th>2</th>\n",
       "      <td>77.0</td>\n",
       "      <td>467.66</td>\n",
       "      <td>86.0</td>\n",
       "      <td>21060.45</td>\n",
       "      <td>0</td>\n",
       "    </tr>\n",
       "    <tr>\n",
       "      <th>3</th>\n",
       "      <td>106.0</td>\n",
       "      <td>745.53</td>\n",
       "      <td>81.0</td>\n",
       "      <td>8437.39</td>\n",
       "      <td>1</td>\n",
       "    </tr>\n",
       "    <tr>\n",
       "      <th>4</th>\n",
       "      <td>66.0</td>\n",
       "      <td>418.74</td>\n",
       "      <td>1.0</td>\n",
       "      <td>14502.75</td>\n",
       "      <td>0</td>\n",
       "    </tr>\n",
       "  </tbody>\n",
       "</table>\n",
       "</div>"
      ],
      "text/plain": [
       "   calls  minutes  messages   mb_used  is_ultra\n",
       "0   40.0   311.90      83.0  19915.42         0\n",
       "1   85.0   516.75      56.0  22696.96         0\n",
       "2   77.0   467.66      86.0  21060.45         0\n",
       "3  106.0   745.53      81.0   8437.39         1\n",
       "4   66.0   418.74       1.0  14502.75         0"
      ]
     },
     "execution_count": 14,
     "metadata": {},
     "output_type": "execute_result"
    }
   ],
   "source": [
    "df.head()"
   ]
  },
  {
   "cell_type": "code",
   "execution_count": 15,
   "metadata": {},
   "outputs": [
    {
     "data": {
      "text/html": [
       "<div>\n",
       "<style scoped>\n",
       "    .dataframe tbody tr th:only-of-type {\n",
       "        vertical-align: middle;\n",
       "    }\n",
       "\n",
       "    .dataframe tbody tr th {\n",
       "        vertical-align: top;\n",
       "    }\n",
       "\n",
       "    .dataframe thead th {\n",
       "        text-align: right;\n",
       "    }\n",
       "</style>\n",
       "<table border=\"1\" class=\"dataframe\">\n",
       "  <thead>\n",
       "    <tr style=\"text-align: right;\">\n",
       "      <th></th>\n",
       "      <th>calls</th>\n",
       "      <th>minutes</th>\n",
       "      <th>messages</th>\n",
       "      <th>mb_used</th>\n",
       "      <th>is_ultra</th>\n",
       "    </tr>\n",
       "  </thead>\n",
       "  <tbody>\n",
       "    <tr>\n",
       "      <th>count</th>\n",
       "      <td>3214.000000</td>\n",
       "      <td>3214.000000</td>\n",
       "      <td>3214.000000</td>\n",
       "      <td>3214.000000</td>\n",
       "      <td>3214.000000</td>\n",
       "    </tr>\n",
       "    <tr>\n",
       "      <th>mean</th>\n",
       "      <td>63.038892</td>\n",
       "      <td>438.208787</td>\n",
       "      <td>38.281269</td>\n",
       "      <td>17207.673836</td>\n",
       "      <td>0.306472</td>\n",
       "    </tr>\n",
       "    <tr>\n",
       "      <th>std</th>\n",
       "      <td>33.236368</td>\n",
       "      <td>234.569872</td>\n",
       "      <td>36.148326</td>\n",
       "      <td>7570.968246</td>\n",
       "      <td>0.461100</td>\n",
       "    </tr>\n",
       "    <tr>\n",
       "      <th>min</th>\n",
       "      <td>0.000000</td>\n",
       "      <td>0.000000</td>\n",
       "      <td>0.000000</td>\n",
       "      <td>0.000000</td>\n",
       "      <td>0.000000</td>\n",
       "    </tr>\n",
       "    <tr>\n",
       "      <th>25%</th>\n",
       "      <td>40.000000</td>\n",
       "      <td>274.575000</td>\n",
       "      <td>9.000000</td>\n",
       "      <td>12491.902500</td>\n",
       "      <td>0.000000</td>\n",
       "    </tr>\n",
       "    <tr>\n",
       "      <th>50%</th>\n",
       "      <td>62.000000</td>\n",
       "      <td>430.600000</td>\n",
       "      <td>30.000000</td>\n",
       "      <td>16943.235000</td>\n",
       "      <td>0.000000</td>\n",
       "    </tr>\n",
       "    <tr>\n",
       "      <th>75%</th>\n",
       "      <td>82.000000</td>\n",
       "      <td>571.927500</td>\n",
       "      <td>57.000000</td>\n",
       "      <td>21424.700000</td>\n",
       "      <td>1.000000</td>\n",
       "    </tr>\n",
       "    <tr>\n",
       "      <th>max</th>\n",
       "      <td>244.000000</td>\n",
       "      <td>1632.060000</td>\n",
       "      <td>224.000000</td>\n",
       "      <td>49745.730000</td>\n",
       "      <td>1.000000</td>\n",
       "    </tr>\n",
       "  </tbody>\n",
       "</table>\n",
       "</div>"
      ],
      "text/plain": [
       "             calls      minutes     messages       mb_used     is_ultra\n",
       "count  3214.000000  3214.000000  3214.000000   3214.000000  3214.000000\n",
       "mean     63.038892   438.208787    38.281269  17207.673836     0.306472\n",
       "std      33.236368   234.569872    36.148326   7570.968246     0.461100\n",
       "min       0.000000     0.000000     0.000000      0.000000     0.000000\n",
       "25%      40.000000   274.575000     9.000000  12491.902500     0.000000\n",
       "50%      62.000000   430.600000    30.000000  16943.235000     0.000000\n",
       "75%      82.000000   571.927500    57.000000  21424.700000     1.000000\n",
       "max     244.000000  1632.060000   224.000000  49745.730000     1.000000"
      ]
     },
     "execution_count": 15,
     "metadata": {},
     "output_type": "execute_result"
    }
   ],
   "source": [
    "df.describe()"
   ]
  },
  {
   "cell_type": "code",
   "execution_count": 16,
   "metadata": {},
   "outputs": [
    {
     "data": {
      "text/plain": [
       "calls  minutes  messages  mb_used   is_ultra\n",
       "0.0    0.00     0.0       530.78    1           1\n",
       "75.0   529.66   20.0      21749.32  0           1\n",
       "       487.72   60.0      25759.17  0           1\n",
       "       489.47   7.0       20478.94  1           1\n",
       "       496.06   14.0      13850.84  1           1\n",
       "                                               ..\n",
       "48.0   334.49   19.0      17538.01  0           1\n",
       "       336.38   14.0      21902.41  0           1\n",
       "       338.06   3.0       20883.01  0           1\n",
       "       341.65   0.0       19000.02  0           1\n",
       "244.0  1632.06  39.0      9756.91   1           1\n",
       "Name: count, Length: 3214, dtype: int64"
      ]
     },
     "execution_count": 16,
     "metadata": {},
     "output_type": "execute_result"
    }
   ],
   "source": [
    "df.value_counts()"
   ]
  },
  {
   "cell_type": "code",
   "execution_count": 17,
   "metadata": {},
   "outputs": [
    {
     "data": {
      "text/html": [
       "<div>\n",
       "<style scoped>\n",
       "    .dataframe tbody tr th:only-of-type {\n",
       "        vertical-align: middle;\n",
       "    }\n",
       "\n",
       "    .dataframe tbody tr th {\n",
       "        vertical-align: top;\n",
       "    }\n",
       "\n",
       "    .dataframe thead th {\n",
       "        text-align: right;\n",
       "    }\n",
       "</style>\n",
       "<table border=\"1\" class=\"dataframe\">\n",
       "  <thead>\n",
       "    <tr style=\"text-align: right;\">\n",
       "      <th></th>\n",
       "      <th>calls</th>\n",
       "      <th>minutes</th>\n",
       "      <th>messages</th>\n",
       "      <th>mb_used</th>\n",
       "      <th>is_ultra</th>\n",
       "    </tr>\n",
       "  </thead>\n",
       "  <tbody>\n",
       "    <tr>\n",
       "      <th>calls</th>\n",
       "      <td>1.000000</td>\n",
       "      <td>0.982083</td>\n",
       "      <td>0.177385</td>\n",
       "      <td>0.286442</td>\n",
       "      <td>0.207122</td>\n",
       "    </tr>\n",
       "    <tr>\n",
       "      <th>minutes</th>\n",
       "      <td>0.982083</td>\n",
       "      <td>1.000000</td>\n",
       "      <td>0.173110</td>\n",
       "      <td>0.280967</td>\n",
       "      <td>0.206955</td>\n",
       "    </tr>\n",
       "    <tr>\n",
       "      <th>messages</th>\n",
       "      <td>0.177385</td>\n",
       "      <td>0.173110</td>\n",
       "      <td>1.000000</td>\n",
       "      <td>0.195721</td>\n",
       "      <td>0.203830</td>\n",
       "    </tr>\n",
       "    <tr>\n",
       "      <th>mb_used</th>\n",
       "      <td>0.286442</td>\n",
       "      <td>0.280967</td>\n",
       "      <td>0.195721</td>\n",
       "      <td>1.000000</td>\n",
       "      <td>0.198568</td>\n",
       "    </tr>\n",
       "    <tr>\n",
       "      <th>is_ultra</th>\n",
       "      <td>0.207122</td>\n",
       "      <td>0.206955</td>\n",
       "      <td>0.203830</td>\n",
       "      <td>0.198568</td>\n",
       "      <td>1.000000</td>\n",
       "    </tr>\n",
       "  </tbody>\n",
       "</table>\n",
       "</div>"
      ],
      "text/plain": [
       "             calls   minutes  messages   mb_used  is_ultra\n",
       "calls     1.000000  0.982083  0.177385  0.286442  0.207122\n",
       "minutes   0.982083  1.000000  0.173110  0.280967  0.206955\n",
       "messages  0.177385  0.173110  1.000000  0.195721  0.203830\n",
       "mb_used   0.286442  0.280967  0.195721  1.000000  0.198568\n",
       "is_ultra  0.207122  0.206955  0.203830  0.198568  1.000000"
      ]
     },
     "execution_count": 17,
     "metadata": {},
     "output_type": "execute_result"
    }
   ],
   "source": [
    "df.corr()"
   ]
  },
  {
   "cell_type": "code",
   "execution_count": 19,
   "metadata": {},
   "outputs": [
    {
     "data": {
      "text/plain": [
       "0"
      ]
     },
     "execution_count": 19,
     "metadata": {},
     "output_type": "execute_result"
    }
   ],
   "source": [
    "df.duplicated().sum()"
   ]
  },
  {
   "cell_type": "markdown",
   "metadata": {},
   "source": [
    "# Analise Grafica\n",
    "\n",
    "Analises feitas por graficos para que possamos ter uma visualização diferente dos principais pontos dentro do dataFrame, que são eles:\n",
    "*Numero de clientes em cada plano* \n",
    "*Uso de MB por plano* "
   ]
  },
  {
   "cell_type": "code",
   "execution_count": 54,
   "metadata": {},
   "outputs": [
    {
     "name": "stderr",
     "output_type": "stream",
     "text": [
      "C:\\Users\\Vinicius\\AppData\\Local\\Temp\\ipykernel_16336\\312044965.py:6: FutureWarning: \n",
      "\n",
      "Passing `palette` without assigning `hue` is deprecated and will be removed in v0.14.0. Assign the `x` variable to `hue` and set `legend=False` for the same effect.\n",
      "\n",
      "  sns.countplot(data=df, x='is_ultra', palette='magma')\n"
     ]
    },
    {
     "data": {
      "image/png": "[encoded data removed]",
      "text/plain": [
       "<Figure size 800x500 with 1 Axes>"
      ]
     },
     "metadata": {},
     "output_type": "display_data"
    }
   ],
   "source": [
    "import seaborn as sns\n",
    "import matplotlib.pyplot as plt\n",
    "\n",
    "# Crição de grafico para analisar numero de clientes com determinado plano\n",
    "plt.figure(figsize=(8, 5))\n",
    "sns.countplot(data=df, x='is_ultra', palette='magma')\n",
    "\n",
    "plt.title('Distribuição de Clientes por Plano', fontsize=14)\n",
    "plt.xlabel('Plano (0: Smart, 1: Ultra)')\n",
    "plt.ylabel('Número de Clientes')\n",
    " \n",
    "plt.show()"
   ]
  },
  {
   "cell_type": "code",
   "execution_count": 55,
   "metadata": {},
   "outputs": [
    {
     "name": "stderr",
     "output_type": "stream",
     "text": [
      "C:\\Users\\Vinicius\\AppData\\Local\\Temp\\ipykernel_16336\\453630785.py:3: FutureWarning: \n",
      "\n",
      "Passing `palette` without assigning `hue` is deprecated and will be removed in v0.14.0. Assign the `x` variable to `hue` and set `legend=False` for the same effect.\n",
      "\n",
      "  sns.boxplot(data=df, x='is_ultra', y='mb_used', palette='magma')\n"
     ]
    },
    {
     "data": {
      "image/png": "[encoded data removed]",
      "text/plain": [
       "<Figure size 1000x600 with 1 Axes>"
      ]
     },
     "metadata": {},
     "output_type": "display_data"
    }
   ],
   "source": [
    "# Distribuição em grafico de bloxplot do uso de internet por plano\n",
    "plt.figure(figsize=(10, 6))\n",
    "sns.boxplot(data=df, x='is_ultra', y='mb_used', palette='magma')\n",
    "\n",
    "plt.title('Distribuição do Uso de MB por Plano', fontsize=14)\n",
    "plt.xlabel('Plano (0: Smart, 1: Ultra)')\n",
    "plt.ylabel('Uso de MB')\n",
    "plt.show()"
   ]
  },
  {
   "cell_type": "code",
   "execution_count": 56,
   "metadata": {},
   "outputs": [
    {
     "name": "stderr",
     "output_type": "stream",
     "text": [
      "C:\\Users\\Vinicius\\AppData\\Local\\Temp\\ipykernel_16336\\605794633.py:3: FutureWarning: \n",
      "\n",
      "Passing `palette` without assigning `hue` is deprecated and will be removed in v0.14.0. Assign the `x` variable to `hue` and set `legend=False` for the same effect.\n",
      "\n",
      "  sns.violinplot(data=df, x='is_ultra', y='mb_used', palette='magma')\n"
     ]
    },
    {
     "data": {
      "image/png": "[encoded data removed]",
      "text/plain": [
       "<Figure size 1000x600 with 1 Axes>"
      ]
     },
     "metadata": {},
     "output_type": "display_data"
    }
   ],
   "source": [
    "# Visualização alternativa mostrando a densidade da distribuição do uso de mb por plano\n",
    "plt.figure(figsize=(10, 6))\n",
    "sns.violinplot(data=df, x='is_ultra', y='mb_used', palette='magma')\n",
    "plt.title('Distribuição de Uso de MB por Plano (Violin Plot)', fontsize=14)\n",
    "plt.xlabel('Plano (0: Smart, 1: Ultra)')\n",
    "plt.ylabel('Uso de MB')\n",
    "plt.show()"
   ]
  },
  {
   "cell_type": "markdown",
   "metadata": {},
   "source": [
    "A análise dos gráficos de caixa revela padrões de comportamento de uso que diferenciam os clientes dos planos Smart e Ultra. Os gráficos de mb_used,  mostrem que a mediana (o valor central da caixa) é visivelmente maior para os usuários do plano Ultra em comparação com os do plano Smart. Essa diferença na mediana indica que, em média, os clientes do plano Ultra tendem a consumir mais dados, o que justifica a diferença entre os planos.\n",
    "\n",
    "A clara separação nas distribuições visuais entre os grupos Smart e Ultra é a principal conclusão da análise exploratória. Ela confirma que as variáveis de comportamento do cliente, como uso de internet, são excelentes preditores para o modelo. A capacidade de diferenciar os clientes com base nesses padrões de uso é o que permitirá que o modelo de aprendizado de máquina preveja o plano correto com alta acurácia, validando a premissa do seu projeto e guiando a próxima fase de modelagem de forma eficiente."
   ]
  },
  {
   "cell_type": "markdown",
   "metadata": {},
   "source": [
    "# Separação de conjunto de dados\n",
    "Criação e separação dos dados para os conjuntos de treinamento, validação e de teste"
   ]
  },
  {
   "cell_type": "code",
   "execution_count": 35,
   "metadata": {},
   "outputs": [],
   "source": [
    "# Criando feature e o target que será utilizado no projeto\n",
    "feature = df.drop('is_ultra', axis=1)\n",
    "target = df['is_ultra']"
   ]
  },
  {
   "cell_type": "code",
   "execution_count": 36,
   "metadata": {},
   "outputs": [],
   "source": [
    "# Separando 20% para o modelo teste e de validação. Deixando o de treinamento com maior parte 60%\n",
    "feature_train_val, feature_test,target_train_val, target_test = train_test_split(feature,target, \n",
    "                                                 test_size=0.20, \n",
    "                                                 random_state=42)\n"
   ]
  },
  {
   "cell_type": "code",
   "execution_count": 37,
   "metadata": {},
   "outputs": [],
   "source": [
    "feature_train, feature_val, target_train, target_val = train_test_split(feature_train_val,\n",
    "                                                   target_train_val,\n",
    "                                                   test_size=0.25, \n",
    "                                                   random_state=42)"
   ]
  },
  {
   "cell_type": "code",
   "execution_count": 38,
   "metadata": {},
   "outputs": [
    {
     "name": "stdout",
     "output_type": "stream",
     "text": [
      "Conjunto de Treinamento..: 1928 linhas (60%)\n",
      "Conjunto de Validação....: 643 linhas (20%)\n",
      "Conjunto de Teste........: 643 linhas (20%)\n"
     ]
    }
   ],
   "source": [
    "print(f\"Conjunto de Treinamento..: {len(feature_train)} linhas ({len(feature_train)/len(df):.0%})\")\n",
    "print(f\"Conjunto de Validação....: {len(feature_val)} linhas ({len(feature_val)/len(df):.0%})\")\n",
    "print(f\"Conjunto de Teste........: {len(feature_test)} linhas ({len(feature_test)/len(df):.0%})\")"
   ]
  },
  {
   "cell_type": "markdown",
   "metadata": {},
   "source": [
    "# Investigaçao dos melhores modelos\n",
    "Investigue a qualidade de diferentes modelos alterando hiperparâmetros. "
   ]
  },
  {
   "cell_type": "markdown",
   "metadata": {},
   "source": [
    "# Arvore de decisoes"
   ]
  },
  {
   "cell_type": "code",
   "execution_count": 39,
   "metadata": {},
   "outputs": [],
   "source": [
    "from sklearn.tree import DecisionTreeClassifier\n",
    "from sklearn.metrics import accuracy_score"
   ]
  },
  {
   "cell_type": "code",
   "execution_count": 40,
   "metadata": {},
   "outputs": [],
   "source": [
    "melhor_acuracia_arvore = 0\n",
    "melhor_profundidade_arvore = 0"
   ]
  },
  {
   "cell_type": "code",
   "execution_count": 41,
   "metadata": {},
   "outputs": [
    {
     "name": "stdout",
     "output_type": "stream",
     "text": [
      "Profundidade: 1, Acurácia de Validação: 0.7418\n",
      "Profundidade: 2, Acurácia de Validação: 0.7745\n",
      "Profundidade: 3, Acurácia de Validação: 0.7745\n",
      "Profundidade: 4, Acurácia de Validação: 0.7807\n",
      "Profundidade: 5, Acurácia de Validação: 0.7714\n",
      "Profundidade: 6, Acurácia de Validação: 0.7792\n",
      "Profundidade: 7, Acurácia de Validação: 0.7885\n",
      "Profundidade: 8, Acurácia de Validação: 0.7714\n",
      "Profundidade: 9, Acurácia de Validação: 0.7854\n",
      "Profundidade: 10, Acurácia de Validação: 0.7652\n"
     ]
    }
   ],
   "source": [
    "for profundidade in range(1, 11):\n",
    "    modelo_arvore = DecisionTreeClassifier(random_state=42, max_depth=profundidade)\n",
    "    modelo_arvore.fit(feature_train, target_train)\n",
    "    previsoes_validacao = modelo_arvore.predict(feature_val)\n",
    "    acuracia = accuracy_score(target_val, previsoes_validacao)\n",
    "    print(f\"Profundidade: {profundidade}, Acurácia de Validação: {acuracia:.4f}\")\n",
    "    \n",
    "    if acuracia > melhor_acuracia_arvore:\n",
    "        melhor_acuracia_arvore = acuracia\n",
    "        melhor_profundidade_arvore = profundidade"
   ]
  },
  {
   "cell_type": "code",
   "execution_count": 42,
   "metadata": {},
   "outputs": [
    {
     "name": "stdout",
     "output_type": "stream",
     "text": [
      "Resultado Final da Árvore de Decisão\n",
      " \n",
      "A melhor acurácia no conjunto de validação foi: 0.7885\n",
      "A melhor profundidade foi: 7\n"
     ]
    }
   ],
   "source": [
    "print(\"Resultado Final da Árvore de Decisão\")\n",
    "print(\" \")\n",
    "print(f\"A melhor acurácia no conjunto de validação foi: {melhor_acuracia_arvore:.4f}\")\n",
    "print(f\"A melhor profundidade foi: {melhor_profundidade_arvore}\")"
   ]
  },
  {
   "cell_type": "markdown",
   "metadata": {},
   "source": [
    "# Floresta aleatoria"
   ]
  },
  {
   "cell_type": "code",
   "execution_count": 43,
   "metadata": {},
   "outputs": [],
   "source": [
    "from sklearn.ensemble import RandomForestClassifier"
   ]
  },
  {
   "cell_type": "code",
   "execution_count": 44,
   "metadata": {},
   "outputs": [],
   "source": [
    "melhor_acuracia_floresta = 0\n",
    "melhor_estimadores_floresta = 0\n",
    "melhor_profundidade_floresta = 0"
   ]
  },
  {
   "cell_type": "code",
   "execution_count": 45,
   "metadata": {},
   "outputs": [],
   "source": [
    "for estimadores in range(10, 51, 10):\n",
    "    for profundidade in range(1, 11):\n",
    "        modelo_floresta = RandomForestClassifier(random_state=42, n_estimators=estimadores, max_depth=profundidade)\n",
    "        modelo_floresta.fit(feature_train, target_train)\n",
    "        previsoes_validacao = modelo_floresta.predict(feature_val)\n",
    "        acuracia = accuracy_score(target_val, previsoes_validacao)\n",
    "        if acuracia > melhor_acuracia_floresta:\n",
    "            melhor_acuracia_floresta = acuracia\n",
    "            melhor_estimadores_floresta = estimadores\n",
    "            melhor_profundidade_floresta = profundidade"
   ]
  },
  {
   "cell_type": "code",
   "execution_count": 46,
   "metadata": {},
   "outputs": [
    {
     "name": "stdout",
     "output_type": "stream",
     "text": [
      "Resultado Final da Floresta Aleatória\n",
      " \n",
      "A melhor acurácia no conjunto de validação foi: 0.8040\n",
      "Melhor número de estimadores: 20\n",
      "Melhor profundidade: 4\n"
     ]
    }
   ],
   "source": [
    "print(\"Resultado Final da Floresta Aleatória\")\n",
    "print(\" \")\n",
    "print(f\"A melhor acurácia no conjunto de validação foi: {melhor_acuracia_floresta:.4f}\")\n",
    "print(f\"Melhor número de estimadores: {melhor_estimadores_floresta}\")\n",
    "print(f\"Melhor profundidade: {melhor_profundidade_floresta}\")"
   ]
  },
  {
   "cell_type": "markdown",
   "metadata": {},
   "source": [
    "# Logistica de regressão"
   ]
  },
  {
   "cell_type": "code",
   "execution_count": 47,
   "metadata": {},
   "outputs": [],
   "source": [
    "from sklearn.linear_model import LogisticRegression"
   ]
  },
  {
   "cell_type": "code",
   "execution_count": 48,
   "metadata": {},
   "outputs": [],
   "source": [
    "modelo_logistico = LogisticRegression(random_state=42, solver='liblinear')\n",
    "modelo_logistico.fit(feature_train, target_train)\n",
    "previsoes_validacao = modelo_logistico.predict(feature_val)\n",
    "\n",
    "acuracia_logistica = accuracy_score(target_val, previsoes_validacao)"
   ]
  },
  {
   "cell_type": "code",
   "execution_count": 49,
   "metadata": {},
   "outputs": [
    {
     "name": "stdout",
     "output_type": "stream",
     "text": [
      "Resultado Final da Regressão Logística \n",
      " \n",
      "A acurácia no conjunto de validação foi: 0.7216\n"
     ]
    }
   ],
   "source": [
    "print(\"Resultado Final da Regressão Logística \")\n",
    "print(\" \")\n",
    "print(f\"A acurácia no conjunto de validação foi: {acuracia_logistica:.4f}\")"
   ]
  },
  {
   "cell_type": "markdown",
   "metadata": {},
   "source": [
    "Podemos notar que os 3 modelos tiveram resultados bem proximos em suas melhores acuracias, porem o melhor deles foi a floresta aleatoria, que  atingiu um resultado de 0.8040 e com uma profundidade de 4. \n",
    "\n",
    "Com este resultado, defini que esse modelo será utilizado no conjunto de teste ao final"
   ]
  },
  {
   "cell_type": "markdown",
   "metadata": {},
   "source": [
    "#  Testando o Modelo final\n",
    "Verifique a qualidade do modelo usando o conjunto de teste"
   ]
  },
  {
   "cell_type": "code",
   "execution_count": 50,
   "metadata": {},
   "outputs": [],
   "source": [
    "# Melhores resultados utilizando a floresta aleatoria\n",
    "melhores_estimadores = 20\n",
    "melhor_profundidade = 4"
   ]
  },
  {
   "cell_type": "code",
   "execution_count": 51,
   "metadata": {},
   "outputs": [],
   "source": [
    "modelo_final = RandomForestClassifier(\n",
    "    random_state=42, \n",
    "    n_estimators=melhores_estimadores, \n",
    "    max_depth=melhor_profundidade)"
   ]
  },
  {
   "cell_type": "code",
   "execution_count": 52,
   "metadata": {},
   "outputs": [],
   "source": [
    "modelo_final.fit(feature_train, target_train)\n",
    "previsoes_teste = modelo_final.predict(feature_test)\n",
    "acuracia_final = accuracy_score(target_test, previsoes_teste)"
   ]
  },
  {
   "cell_type": "code",
   "execution_count": 53,
   "metadata": {},
   "outputs": [
    {
     "name": "stdout",
     "output_type": "stream",
     "text": [
      "A acurácia final do modelo no conjunto de teste foi: 0.8118\n",
      "\n",
      "Parabéns! O modelo atingiu a meta de acurácia de 75% ou mais.\n"
     ]
    }
   ],
   "source": [
    "print(f\"A acurácia final do modelo no conjunto de teste foi: {acuracia_final:.4f}\")\n",
    "# Meta do projeto de 0.75 de acuracia\n",
    "if acuracia_final >= 0.75:\n",
    "    print(\"\\nParabéns! O modelo atingiu a meta de acurácia de 75% ou mais.\")\n",
    "else: \n",
    "    print(\"O modelo não atingiu a meta de acurácia de 75%. Vamos revisar as etapas.\")\n"
   ]
  }
 ],
 "metadata": {
  "kernelspec": {
   "display_name": "base",
   "language": "python",
   "name": "python3"
  },
  "language_info": {
   "codemirror_mode": {
    "name": "ipython",
    "version": 3
   },
   "file_extension": ".py",
   "mimetype": "text/x-python",
   "name": "python",
   "nbconvert_exporter": "python",
   "pygments_lexer": "ipython3",
   "version": "3.12.7"
  }
 },
 "nbformat": 4,
 "nbformat_minor": 4
}
